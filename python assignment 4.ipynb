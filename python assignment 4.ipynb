{
 "cells": [
  {
   "cell_type": "markdown",
   "id": "848db628",
   "metadata": {},
   "source": [
    "## 1.1 Write a Python Program(with class concepts) to find the area of the triangle using the below formula. \n",
    "### area = (s*(s-a)*(s-b)*(s-c)) ** 0.5 \n",
    "### Function to take the length of the sides of triangle from user should be defined in the parent class and function to calculate the area should be defined in subclass."
   ]
  },
  {
   "cell_type": "code",
   "execution_count": 1,
   "id": "7f5a9ebe",
   "metadata": {},
   "outputs": [],
   "source": [
    "class Arin():\n",
    "    def inp(self):\n",
    "        self.a=int(input())\n",
    "        self.b=int(input())\n",
    "        self.c=int(input())\n",
    "class Calc(Arin):\n",
    "    def cal(self):\n",
    "        s=(self.a+self.b+self.c)/2\n",
    "        return (s*(s-self.a)*(s-self.b)*(s-self.c)) ** 0.5"
   ]
  },
  {
   "cell_type": "code",
   "execution_count": 2,
   "id": "e03b1206",
   "metadata": {},
   "outputs": [
    {
     "name": "stdout",
     "output_type": "stream",
     "text": [
      "4\n",
      "5\n",
      "6\n"
     ]
    }
   ],
   "source": [
    "c=Calc()\n",
    "c.inp()"
   ]
  },
  {
   "cell_type": "code",
   "execution_count": 3,
   "id": "692d274c",
   "metadata": {},
   "outputs": [
    {
     "data": {
      "text/plain": [
       "9.921567416492215"
      ]
     },
     "execution_count": 3,
     "metadata": {},
     "output_type": "execute_result"
    }
   ],
   "source": [
    "c.cal()"
   ]
  },
  {
   "cell_type": "markdown",
   "id": "175ee62d",
   "metadata": {},
   "source": [
    "## 1.2 Write a function filter_long_words() that takes a list of words and an integer n and returns the list of words that are longer than n."
   ]
  },
  {
   "cell_type": "code",
   "execution_count": 4,
   "id": "4f1bbe6a",
   "metadata": {},
   "outputs": [],
   "source": [
    "def filter_long_words(li,n):\n",
    "        return [i for i in li if(len(i)>n)]"
   ]
  },
  {
   "cell_type": "code",
   "execution_count": 5,
   "id": "7140ca5b",
   "metadata": {},
   "outputs": [
    {
     "name": "stdout",
     "output_type": "stream",
     "text": [
      "4\n"
     ]
    }
   ],
   "source": [
    "n=int(input())"
   ]
  },
  {
   "cell_type": "code",
   "execution_count": 6,
   "id": "29760b98",
   "metadata": {},
   "outputs": [
    {
     "name": "stdout",
     "output_type": "stream",
     "text": [
      "0wer\n",
      "1we\n",
      "2wedr\n",
      "3gfgd\n",
      "4dgbng\n",
      "5s\n",
      "6sd\n",
      "7sdbvbd\n",
      "8sdse\n",
      "9s\n"
     ]
    }
   ],
   "source": [
    "l=[input(i) for i in range(10)]"
   ]
  },
  {
   "cell_type": "code",
   "execution_count": 7,
   "id": "508cdd02",
   "metadata": {},
   "outputs": [
    {
     "data": {
      "text/plain": [
       "['dgbng', 'sdbvbd']"
      ]
     },
     "execution_count": 7,
     "metadata": {},
     "output_type": "execute_result"
    }
   ],
   "source": [
    "filter_long_words(l,n)"
   ]
  },
  {
   "cell_type": "markdown",
   "id": "28f33498",
   "metadata": {},
   "source": [
    "## 2.1 Write a Python program using function concept that maps list of words into a list of integers representing the lengths of the corresponding words."
   ]
  },
  {
   "cell_type": "code",
   "execution_count": 8,
   "id": "4f58d0d4",
   "metadata": {},
   "outputs": [],
   "source": [
    "def length(l):\n",
    "    return [len(i) for i in l]"
   ]
  },
  {
   "cell_type": "code",
   "execution_count": 9,
   "id": "403578dd",
   "metadata": {},
   "outputs": [
    {
     "data": {
      "text/plain": [
       "[3, 2, 1, 5]"
      ]
     },
     "execution_count": 9,
     "metadata": {},
     "output_type": "execute_result"
    }
   ],
   "source": [
    "length(['asd','fg','g','ajnvd'])"
   ]
  },
  {
   "cell_type": "markdown",
   "id": "41b65e48",
   "metadata": {},
   "source": [
    "## 2.2 Write a Python function which takes a character (i.e. a string of length 1) and returns True if it is a vowel, False otherwise."
   ]
  },
  {
   "cell_type": "code",
   "execution_count": 10,
   "id": "c1792b63",
   "metadata": {},
   "outputs": [],
   "source": [
    "def isvowel(c):\n",
    "    if(c=='a' or c=='e' or c=='i' or c=='o' or c=='u'):\n",
    "        return True\n",
    "    else:\n",
    "        return False"
   ]
  },
  {
   "cell_type": "code",
   "execution_count": 11,
   "id": "2b3213fc",
   "metadata": {},
   "outputs": [
    {
     "data": {
      "text/plain": [
       "False"
      ]
     },
     "execution_count": 11,
     "metadata": {},
     "output_type": "execute_result"
    }
   ],
   "source": [
    "isvowel('d')"
   ]
  },
  {
   "cell_type": "code",
   "execution_count": 12,
   "id": "c07f9d57",
   "metadata": {},
   "outputs": [
    {
     "data": {
      "text/plain": [
       "True"
      ]
     },
     "execution_count": 12,
     "metadata": {},
     "output_type": "execute_result"
    }
   ],
   "source": [
    "isvowel('a')"
   ]
  }
 ],
 "metadata": {
  "kernelspec": {
   "display_name": "Python 3",
   "language": "python",
   "name": "python3"
  },
  "language_info": {
   "codemirror_mode": {
    "name": "ipython",
    "version": 3
   },
   "file_extension": ".py",
   "mimetype": "text/x-python",
   "name": "python",
   "nbconvert_exporter": "python",
   "pygments_lexer": "ipython3",
   "version": "3.8.8"
  }
 },
 "nbformat": 4,
 "nbformat_minor": 5
}
